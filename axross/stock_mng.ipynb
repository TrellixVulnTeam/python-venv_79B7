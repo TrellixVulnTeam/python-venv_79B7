{
 "cells": [
  {
   "cell_type": "code",
   "execution_count": 2,
   "metadata": {},
   "outputs": [],
   "source": [
    "class Product:\n",
    "    def __init__(self, id, name, quantity, price):\n",
    "        self.id = id\n",
    "        self.name = name\n",
    "        self.quantity = quantity\n",
    "        self.price = price\n",
    "        self.worth = price * quantity\n",
    "    def show(self):\n",
    "        print('ID: {id}\\t　商品: {name}\\t　個数: {quantity}\\t　価格: {price}\\t　総額(価格*個数): {worth}'.format(id = self.id, name = self.name, quantity = self.quantity, price = self.price, worth = self.worth))\n",
    "\n",
    "\n",
    "class Stock:\n",
    "    def __init__(self):\n",
    "        self.items_list = []\n",
    "\n",
    "    def add(self, product):\n",
    "        flag = False\n",
    "        for i in self.items_list:\n",
    "            if i.name == product.name:\n",
    "                i.quantity += product.quantity\n",
    "                i.worth += product.worth\n",
    "                flag = True\n",
    "                break\n",
    "        if flag == False:\n",
    "            self.items_list.append(product)\n",
    "        print('{name} {quantity}個追加しました'.format(name = product.name, quantity = product.quantity))\n",
    "\n",
    "    def delete(self, product):\n",
    "        flag = False\n",
    "        for i in self.items_list:\n",
    "            if i.name == product.name:\n",
    "                flag = True\n",
    "                if i.quantity >= product.quantity:\n",
    "                    i.quantity -= product.quantity\n",
    "                    i.worth -= product.worth\n",
    "                    print('{name} {quantity}個減少しました'.format(name = product.name, quantity = product.quantity))\n",
    "                    break\n",
    "                else:\n",
    "                    print('個数が足りません')\n",
    "        if flag == False:\n",
    "            print('{name}が存在しません'.format(name = product.name))\n",
    "\n",
    "    def print_info(self, *target):\n",
    "        print('-' * 90)\n",
    "        if len(target) > 0:\n",
    "            for i in target:\n",
    "                flag = False\n",
    "                for j in self.items_list:\n",
    "                    if(i == j.name):\n",
    "                        flag = True\n",
    "                        j.show()\n",
    "                if flag == False:\n",
    "                    print('{name}は存在しません'.format(name = i))\n",
    "        else:\n",
    "            for i in self.items_list:\n",
    "                i.show()\n",
    "            total_product = len(self.items_list)\n",
    "            total_worth = 0\n",
    "            for item in self.items_list:\n",
    "                total_worth += item.worth\n",
    "            print('商品種類数: {product}\\n在庫合計金額: {worth}'.format(product = total_product, worth = total_worth))\n",
    "            print('-' * 90)\n",
    "    \n",
    "    def sort_stock(self, k = 'quantity', r = False):\n",
    "        if k == 'quantity':\n",
    "            sorted_stock = sorted(self.items_list, key = lambda x: x.quantity, reverse = r)\n",
    "        elif k == 'worth':\n",
    "            sorted_stock = sorted(self.items_list, key = lambda x: x.worth, reverse = r)\n",
    "        for i in sorted_stock:\n",
    "            i.show()\n",
    "        print('-' * 90)"
   ]
  },
  {
   "cell_type": "code",
   "execution_count": 3,
   "metadata": {},
   "outputs": [
    {
     "name": "stdout",
     "output_type": "stream",
     "text": [
      "apple 20個追加しました\n",
      "pear 5個追加しました\n",
      "apple 10個減少しました\n",
      "orange 30個追加しました\n",
      "banana 25個追加しました\n",
      "orange 10個減少しました\n",
      "milk 35個追加しました\n",
      "ice 50個追加しました\n"
     ]
    }
   ],
   "source": [
    "s = Stock()\n",
    "s.add(Product(1001, 'apple', 20, 200))\n",
    "s.add(Product(1002, 'pear', 5, 300))\n",
    "s.delete(Product(1001, 'apple', 10, 200))\n",
    "s.add(Product(1003, 'orange',30, 100))\n",
    "s.add(Product(1004, 'banana', 25, 50))\n",
    "s.delete(Product(1001, 'orange', 10, 200))\n",
    "s.add(Product(1005, 'milk', 35, 100))\n",
    "s.add(Product(1006, 'ice', 50, 200))"
   ]
  },
  {
   "cell_type": "code",
   "execution_count": 4,
   "metadata": {},
   "outputs": [
    {
     "name": "stdout",
     "output_type": "stream",
     "text": [
      "------------------------------------------------------------------------------------------\n",
      "ID: 1001\t　商品: apple\t　個数: 10\t　価格: 200\t　総額(価格*個数): 2000\n",
      "ID: 1002\t　商品: pear\t　個数: 5\t　価格: 300\t　総額(価格*個数): 1500\n",
      "ID: 1003\t　商品: orange\t　個数: 20\t　価格: 100\t　総額(価格*個数): 1000\n",
      "ID: 1004\t　商品: banana\t　個数: 25\t　価格: 50\t　総額(価格*個数): 1250\n",
      "ID: 1005\t　商品: milk\t　個数: 35\t　価格: 100\t　総額(価格*個数): 3500\n",
      "ID: 1006\t　商品: ice\t　個数: 50\t　価格: 200\t　総額(価格*個数): 10000\n",
      "商品種類数: 6\n",
      "在庫合計金額: 19250\n",
      "------------------------------------------------------------------------------------------\n"
     ]
    }
   ],
   "source": [
    "s.print_info()"
   ]
  },
  {
   "cell_type": "code",
   "execution_count": 5,
   "metadata": {},
   "outputs": [
    {
     "name": "stdout",
     "output_type": "stream",
     "text": [
      "ID: 1002\t　商品: pear\t　個数: 5\t　価格: 300\t　総額(価格*個数): 1500\n",
      "ID: 1001\t　商品: apple\t　個数: 10\t　価格: 200\t　総額(価格*個数): 2000\n",
      "ID: 1003\t　商品: orange\t　個数: 20\t　価格: 100\t　総額(価格*個数): 1000\n",
      "ID: 1004\t　商品: banana\t　個数: 25\t　価格: 50\t　総額(価格*個数): 1250\n",
      "ID: 1005\t　商品: milk\t　個数: 35\t　価格: 100\t　総額(価格*個数): 3500\n",
      "ID: 1006\t　商品: ice\t　個数: 50\t　価格: 200\t　総額(価格*個数): 10000\n",
      "------------------------------------------------------------------------------------------\n"
     ]
    }
   ],
   "source": [
    "s.sort_stock('quantity', False)"
   ]
  },
  {
   "cell_type": "code",
   "execution_count": 6,
   "metadata": {},
   "outputs": [
    {
     "name": "stdout",
     "output_type": "stream",
     "text": [
      "ID: 1006\t　商品: ice\t　個数: 50\t　価格: 200\t　総額(価格*個数): 10000\n",
      "ID: 1005\t　商品: milk\t　個数: 35\t　価格: 100\t　総額(価格*個数): 3500\n",
      "ID: 1001\t　商品: apple\t　個数: 10\t　価格: 200\t　総額(価格*個数): 2000\n",
      "ID: 1002\t　商品: pear\t　個数: 5\t　価格: 300\t　総額(価格*個数): 1500\n",
      "ID: 1004\t　商品: banana\t　個数: 25\t　価格: 50\t　総額(価格*個数): 1250\n",
      "ID: 1003\t　商品: orange\t　個数: 20\t　価格: 100\t　総額(価格*個数): 1000\n",
      "------------------------------------------------------------------------------------------\n"
     ]
    }
   ],
   "source": [
    "s.sort_stock('worth', True)"
   ]
  }
 ],
 "metadata": {
  "kernelspec": {
   "display_name": "Python 3.10.5 ('axross': venv)",
   "language": "python",
   "name": "python3"
  },
  "language_info": {
   "codemirror_mode": {
    "name": "ipython",
    "version": 3
   },
   "file_extension": ".py",
   "mimetype": "text/x-python",
   "name": "python",
   "nbconvert_exporter": "python",
   "pygments_lexer": "ipython3",
   "version": "3.10.5"
  },
  "orig_nbformat": 4,
  "vscode": {
   "interpreter": {
    "hash": "f716b2224bb5685f94c5c1597b05e1b4f6d1cbacc5ba2a7a12836ed120405936"
   }
  }
 },
 "nbformat": 4,
 "nbformat_minor": 2
}
